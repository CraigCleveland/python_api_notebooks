{
 "cells": [
  {
   "cell_type": "code",
   "execution_count": 45,
   "metadata": {},
   "outputs": [],
   "source": [
    "from arcgis.gis import *\n",
    "import pandas as pd"
   ]
  },
  {
   "cell_type": "code",
   "execution_count": 46,
   "metadata": {},
   "outputs": [
    {
     "name": "stdout",
     "output_type": "stream",
     "text": [
      "Enter password:········\n",
      "Successfully logged in as: Administrator\n"
     ]
    }
   ],
   "source": [
    "import getpass\n",
    "password = getpass.getpass(\"Enter password:\")\n",
    "gis = GIS(\"https://wdcintelportal.esri.com/portal\",\"Administrator\", password)\n",
    "print(\"Successfully logged in as: \" + gis.properties.user.username)"
   ]
  },
  {
   "cell_type": "code",
   "execution_count": 47,
   "metadata": {},
   "outputs": [
    {
     "data": {
      "text/plain": [
       "[<Group title:\"Libya Situation Development\" owner:DAttaway_wdcintel>]"
      ]
     },
     "execution_count": 47,
     "metadata": {},
     "output_type": "execute_result"
    }
   ],
   "source": [
    "findgroup = gis.groups.search(\"title:Libya Situation Development\")\n",
    "findgroup"
   ]
  },
  {
   "cell_type": "code",
   "execution_count": 48,
   "metadata": {},
   "outputs": [],
   "source": [
    "groupofinterest = findgroup[0]"
   ]
  },
  {
   "cell_type": "code",
   "execution_count": 49,
   "metadata": {},
   "outputs": [],
   "source": [
    "groupmembers = groupofinterest.get_members()"
   ]
  },
  {
   "cell_type": "code",
   "execution_count": 50,
   "metadata": {},
   "outputs": [],
   "source": [
    "userlist = []\n",
    "\n",
    "for user in groupmembers['users']:\n",
    "  userlist.append(user)"
   ]
  },
  {
   "cell_type": "code",
   "execution_count": 52,
   "metadata": {},
   "outputs": [
    {
     "name": "stdout",
     "output_type": "stream",
     "text": [
      "               username firstname   lastname                email\n",
      "0   RBernstein_wdcintel     Renee  Bernstein  rbernstein@esri.com\n",
      "1               JohnFry      John        Fry        jfry@esri.com\n",
      "2      JMichel_wdcintel       Jim     Michel     JMichel@esri.com\n",
      "3               POBrien   Patrick    O'Brien     POBrien@esri.com\n",
      "4              scecilio     Scott    Cecilio    scecilio@esri.com\n",
      "5     bconklin_wdcintel       Ben    Conklin    bconklin@esri.com\n",
      "6      KTalbot_wdcintel      Kyle     Talbot     KTalbot@esri.com\n",
      "7         Administrator     Craig  Cleveland  ccleveland@esri.com\n",
      "8    KMitchell_wdcintel       Ken   Mitchell   KMitchell@esri.com\n",
      "9        TOaks_wdcintel    Thomas       Oaks       TOaks@esri.com\n",
      "10   JSullivan_wdcintel     James   Sullivan   JSullivan@esri.com\n"
     ]
    }
   ],
   "source": [
    "user_df = pd.DataFrame(columns=['username', 'firstname','lastname','email'])\n",
    "\n",
    "for ix, user in enumerate(userlist):\n",
    "    info = gis.users.get(user)\n",
    "    user_df.loc[ix] = info.username, info.firstName, info.lastName, info.email\n",
    "\n",
    "print(user_df)"
   ]
  },
  {
   "cell_type": "code",
   "execution_count": 53,
   "metadata": {},
   "outputs": [],
   "source": [
    "user_df.to_csv('C:\\Temp\\group_users_list.csv', index=False)"
   ]
  }
 ],
 "metadata": {
  "kernelspec": {
   "display_name": "Python 3",
   "language": "python",
   "name": "python3"
  },
  "language_info": {
   "codemirror_mode": {
    "name": "ipython",
    "version": 3
   },
   "file_extension": ".py",
   "mimetype": "text/x-python",
   "name": "python",
   "nbconvert_exporter": "python",
   "pygments_lexer": "ipython3",
   "version": "3.6.2"
  }
 },
 "nbformat": 4,
 "nbformat_minor": 2
}
