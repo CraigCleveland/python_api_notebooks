{
 "cells": [
  {
   "cell_type": "code",
   "execution_count": 1,
   "metadata": {},
   "outputs": [],
   "source": [
    "from arcgis.gis import *"
   ]
  },
  {
   "cell_type": "code",
   "execution_count": 2,
   "metadata": {},
   "outputs": [
    {
     "name": "stdout",
     "output_type": "stream",
     "text": [
      "Enter password:········\n",
      "Successfully logged in as: Administrator\n"
     ]
    }
   ],
   "source": [
    "import getpass\n",
    "password = getpass.getpass(\"Enter password:\")\n",
    "gis = GIS(\"https://wdcintelportal.esri.com/portal\",\"Administrator\", password)\n",
    "print(\"Successfully logged in as: \" + gis.properties.user.username)"
   ]
  },
  {
   "cell_type": "code",
   "execution_count": 4,
   "metadata": {},
   "outputs": [
    {
     "data": {
      "text/plain": [
       "[<Group title:\"Libya Situation Development\" owner:DAttaway_wdcintel>]"
      ]
     },
     "execution_count": 4,
     "metadata": {},
     "output_type": "execute_result"
    }
   ],
   "source": [
    "findgroup = gis.groups.search(\"title:Libya Situation Development\")\n",
    "findgroup"
   ]
  },
  {
   "cell_type": "code",
   "execution_count": 5,
   "metadata": {},
   "outputs": [],
   "source": [
    "groupofinterest = findgroup[0]"
   ]
  },
  {
   "cell_type": "code",
   "execution_count": 6,
   "metadata": {},
   "outputs": [],
   "source": [
    "groupmembers = groupofinterest.get_members()"
   ]
  },
  {
   "cell_type": "code",
   "execution_count": 8,
   "metadata": {},
   "outputs": [],
   "source": [
    "userlist = []\n",
    "\n",
    "for user in groupmembers['users']:\n",
    "  userlist.append(user)"
   ]
  },
  {
   "cell_type": "code",
   "execution_count": 10,
   "metadata": {},
   "outputs": [
    {
     "name": "stdout",
     "output_type": "stream",
     "text": [
      "User Name: RBernstein_wdcintel, Name: Renee Bernstein, Email: rbernstein@esri.com\n",
      "User Name: JohnFry, Name: John Fry, Email: jfry@esri.com\n",
      "User Name: JMichel_wdcintel, Name: Jim Michel, Email: JMichel@esri.com\n",
      "User Name: POBrien, Name: Patrick O'Brien, Email: POBrien@esri.com\n",
      "User Name: scecilio, Name: Scott Cecilio, Email: scecilio@esri.com\n",
      "User Name: bconklin_wdcintel, Name: Ben Conklin, Email: bconklin@esri.com\n",
      "User Name: KTalbot_wdcintel, Name: Kyle Talbot, Email: KTalbot@esri.com\n",
      "User Name: Administrator, Name: Craig Cleveland, Email: ccleveland@esri.com\n",
      "User Name: KMitchell_wdcintel, Name: Ken Mitchell, Email: KMitchell@esri.com\n",
      "User Name: TOaks_wdcintel, Name: Thomas Oaks, Email: TOaks@esri.com\n",
      "User Name: JSullivan_wdcintel, Name: James Sullivan, Email: JSullivan@esri.com\n"
     ]
    }
   ],
   "source": [
    "for user in userlist:\n",
    "    info = gis.users.get(user)\n",
    "    print(\"User Name: \" + info.username + \", Name: \" + str(info.firstName) + \" \" + str(info.lastName) + \", Email: \" + str(info.email))"
   ]
  },
  {
   "cell_type": "code",
   "execution_count": null,
   "metadata": {},
   "outputs": [],
   "source": []
  }
 ],
 "metadata": {
  "kernelspec": {
   "display_name": "Python 3",
   "language": "python",
   "name": "python3"
  },
  "language_info": {
   "codemirror_mode": {
    "name": "ipython",
    "version": 3
   },
   "file_extension": ".py",
   "mimetype": "text/x-python",
   "name": "python",
   "nbconvert_exporter": "python",
   "pygments_lexer": "ipython3",
   "version": "3.6.3"
  }
 },
 "nbformat": 4,
 "nbformat_minor": 2
}
